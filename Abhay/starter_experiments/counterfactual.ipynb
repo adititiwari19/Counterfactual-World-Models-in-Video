{
 "cells": [
  {
   "cell_type": "code",
   "execution_count": 1,
   "id": "9bb48b78",
   "metadata": {},
   "outputs": [
    {
     "name": "stderr",
     "output_type": "stream",
     "text": [
      "c:\\Users\\abhay\\anaconda3\\envs\\ursa25\\Lib\\site-packages\\tqdm\\auto.py:21: TqdmWarning: IProgress not found. Please update jupyter and ipywidgets. See https://ipywidgets.readthedocs.io/en/stable/user_install.html\n",
      "  from .autonotebook import tqdm as notebook_tqdm\n"
     ]
    }
   ],
   "source": [
    "import torch\n",
    "import open_clip\n",
    "import whisper\n",
    "from pathlib import Path\n",
    "import cv2\n",
    "from PIL import Image\n",
    "from video import delay_ms, video_path, runVideo\n",
    "from bisect import bisect_left\n",
    "from tqdm import tqdm"
   ]
  },
  {
   "cell_type": "code",
   "execution_count": null,
   "id": "e7cc436f",
   "metadata": {},
   "outputs": [
    {
     "name": "stdout",
     "output_type": "stream",
     "text": [
      "\n",
      "Hell  o\n",
      "\n"
     ]
    }
   ],
   "source": [
    "print(\"\"\"\n",
    "Hell \\\n",
    "o\n",
    "\"\"\")"
   ]
  },
  {
   "cell_type": "code",
   "execution_count": 8,
   "id": "9563b563",
   "metadata": {},
   "outputs": [
    {
     "data": {
      "text/plain": [
       "True"
      ]
     },
     "execution_count": 8,
     "metadata": {},
     "output_type": "execute_result"
    }
   ],
   "source": [
    "torch.cuda.is_available()"
   ]
  },
  {
   "cell_type": "code",
   "execution_count": 6,
   "id": "b34692d0",
   "metadata": {},
   "outputs": [
    {
     "name": "stderr",
     "output_type": "stream",
     "text": [
      "c:\\Users\\abhay\\anaconda3\\envs\\ursa25\\Lib\\site-packages\\whisper\\timing.py:42: UserWarning: Failed to launch Triton kernels, likely due to missing CUDA toolkit; falling back to a slower median kernel implementation...\n",
      "  warnings.warn(\n",
      "c:\\Users\\abhay\\anaconda3\\envs\\ursa25\\Lib\\site-packages\\whisper\\timing.py:146: UserWarning: Failed to launch Triton kernels, likely due to missing CUDA toolkit; falling back to a slower DTW implementation...\n",
      "  warnings.warn(\n",
      "c:\\Users\\abhay\\anaconda3\\envs\\ursa25\\Lib\\site-packages\\whisper\\timing.py:42: UserWarning: Failed to launch Triton kernels, likely due to missing CUDA toolkit; falling back to a slower median kernel implementation...\n",
      "  warnings.warn(\n",
      "c:\\Users\\abhay\\anaconda3\\envs\\ursa25\\Lib\\site-packages\\whisper\\timing.py:146: UserWarning: Failed to launch Triton kernels, likely due to missing CUDA toolkit; falling back to a slower DTW implementation...\n",
      "  warnings.warn(\n"
     ]
    },
    {
     "name": "stdout",
     "output_type": "stream",
     "text": [
      "[1.44-6.58]:  Hi there, I'm going to show you one of the most popular ways to tie a tie, using the\n",
      "[6.58-14.70]:  Windsor knot. Also known as a double Windsor, or a full Windsor. Start with your\n",
      "[14.70-18.68]:  collar up in the tie around your neck. If you right-hand it on the wide end in\n",
      "[18.68-24.92]:  your right hand and the narrow end in your left hand. Now it's important to remember\n",
      "[25.34-28.88]:  that the longer you make the wide end below the tie will hang when you finished.\n",
      "[29.68-33.82]:  Basically you want to line up your tie like this. If you remember this you'll\n",
      "[33.82-35.38]:  save yourself a lot of time later on.\n",
      "[38.36-43.90]:  Now cross each end over, wide end over the top, and leave about this much on the narrow end.\n",
      "[44.64-46.98]:  That's about four inches or ten centimeters.\n",
      "[50.80-56.04]:  With your left hand take the wide end, thread it through the back of this opening from behind.\n",
      "[56.84-59.08]:  Thread it all the way through like this.\n",
      "[66.80-69.62]:  Now take the wide end and with your left hand,\n",
      "[71.56-73.66]:  wrap it all the way around the back like this.\n",
      "[75.48-79.72]:  Switch hands. Notice here how the back of the tie is facing outward.\n",
      "[84.02-88.46]:  Take the wide end now in your right hand, thread it through the front of this opening,\n",
      "[89.04-94.18]:  we're going through the front and down this time. Thread it through all the way down like this.\n",
      "[95.24-100.90]:  All right, hardest parts now done. The rest is easy. What you can see here is the inside of\n",
      "[100.90-107.18]:  your knot. Should look a bit like a triangle. Put your left index finger on the knot,\n",
      "[107.18-113.14]:  like this, and keep it there. With your other hand, wrap the wide end around the knot\n",
      "[113.14-119.24]:  from right to left, and then grab it from behind. Keep your index finger where it is.\n",
      "[123.14-127.34]:  With your right hand, push the wide end through this opening again from the back,\n",
      "[127.80-131.84]:  so we're coming up and through the back like this, threading it through the hole.\n",
      "[131.84-140.46]:  All right, here comes the punch line. Your index finger has created a little tunnel.\n",
      "[141.64-146.12]:  What you need to do now is thread the tie down through the tunnel and pull it down.\n",
      "[149.02-154.72]:  The last step now is to adjust and tighten it, alternating between the long end and the short end.\n",
      "[155.38-160.24]:  Gradually pulling the knot up, shaping it as you go until it's just how you want it to be.\n",
      "[161.04-168.96]:  A sharp symmetrical triangular knot. Pull your collar down and bingo, the full winds are not.\n",
      "[170.36-172.76]:  Thank you for watching. I hope you found this helpful.\n"
     ]
    }
   ],
   "source": [
    "model = whisper.load_model(\"base\")\n",
    "transcript = model.transcribe(str(video_path), word_timestamps=True)\n",
    "\n",
    "timestamp_list = []\n",
    "\n",
    "for segment in transcript[\"segments\"]:\n",
    "    timestamp_list.append((segment[\"start\"] + segment[\"end\"]) / 2)\n",
    "    print(f\"[{segment[\"start\"]:.2f}-{segment[\"end\"]:.2f}]:\", segment[\"text\"])"
   ]
  },
  {
   "cell_type": "code",
   "execution_count": 7,
   "id": "671b447d",
   "metadata": {},
   "outputs": [],
   "source": [
    "def get_text_from_timestamp(timestamp):\n",
    "    idx = min(bisect_left(timestamp_list, timestamp), len(timestamp_list) - 1)\n",
    "    return transcript[\"segments\"][idx][\"text\"]\n"
   ]
  },
  {
   "cell_type": "code",
   "execution_count": 8,
   "id": "2a53a0e9",
   "metadata": {},
   "outputs": [
    {
     "name": "stdout",
     "output_type": "stream",
     "text": [
      " Gradually pulling the knot up, shaping it as you go until it's just how you want it to be.\n"
     ]
    }
   ],
   "source": [
    "print(get_text_from_timestamp(157))"
   ]
  },
  {
   "cell_type": "code",
   "execution_count": 9,
   "id": "2368db60",
   "metadata": {},
   "outputs": [
    {
     "name": "stderr",
     "output_type": "stream",
     "text": [
      "c:\\Users\\abhay\\anaconda3\\envs\\ursa25\\Lib\\site-packages\\open_clip\\factory.py:450: UserWarning: QuickGELU mismatch between final model config (quick_gelu=False) and pretrained tag 'openai' (quick_gelu=True).\n",
      "  warnings.warn(\n"
     ]
    },
    {
     "name": "stdout",
     "output_type": "stream",
     "text": [
      "[0.0]: tensor([0.2153])  Hi there, I'm going to show you one of the most popular ways to tie a tie, using the\n",
      "[8.0]: tensor([0.3081])  Windsor knot. Also known as a double Windsor, or a full Windsor. Start with your\n",
      "[16.0]: tensor([0.2730])  collar up in the tie around your neck. If you right-hand it on the wide end in\n",
      "[24.0]: tensor([0.3045])  that the longer you make the wide end below the tie will hang when you finished.\n",
      "[32.0]: tensor([0.2382])  save yourself a lot of time later on.\n",
      "[40.0]: tensor([0.1931])  Now cross each end over, wide end over the top, and leave about this much on the narrow end.\n",
      "[48.0]: tensor([0.2652])  With your left hand take the wide end, thread it through the back of this opening from behind.\n",
      "[56.0]: tensor([0.2471])  Thread it all the way through like this.\n",
      "[64.0]: tensor([0.2498])  Now take the wide end and with your left hand,\n",
      "[72.0]: tensor([0.2340])  wrap it all the way around the back like this.\n",
      "[80.0]: tensor([0.2673])  Take the wide end now in your right hand, thread it through the front of this opening,\n",
      "[88.0]: tensor([0.2533])  we're going through the front and down this time. Thread it through all the way down like this.\n",
      "[96.0]: tensor([0.2226])  All right, hardest parts now done. The rest is easy. What you can see here is the inside of\n",
      "[104.0]: tensor([0.2880])  your knot. Should look a bit like a triangle. Put your left index finger on the knot,\n",
      "[112.0]: tensor([0.2221])  from right to left, and then grab it from behind. Keep your index finger where it is.\n",
      "[120.0]: tensor([0.2584])  With your right hand, push the wide end through this opening again from the back,\n",
      "[128.0]: tensor([0.2190])  so we're coming up and through the back like this, threading it through the hole.\n",
      "[136.0]: tensor([0.2211])  All right, here comes the punch line. Your index finger has created a little tunnel.\n",
      "[144.0]: tensor([0.2439])  The last step now is to adjust and tighten it, alternating between the long end and the short end.\n",
      "[152.0]: tensor([0.2715])  Gradually pulling the knot up, shaping it as you go until it's just how you want it to be.\n",
      "[160.0]: tensor([0.2716])  A sharp symmetrical triangular knot. Pull your collar down and bingo, the full winds are not.\n",
      "[168.0]: tensor([0.2280])  Thank you for watching. I hope you found this helpful.\n",
      "[176.0]: tensor([0.2306])  Thank you for watching. I hope you found this helpful.\n"
     ]
    }
   ],
   "source": [
    "model, _, preprocess = open_clip.create_model_and_transforms('ViT-B-32', pretrained='openai')\n",
    "tokenizer = open_clip.get_tokenizer('ViT-B-32')\n",
    "\n",
    "with torch.no_grad():\n",
    "    for i, frame in enumerate(runVideo(wait=False)):\n",
    "        if i % 200 != 0:\n",
    "            continue\n",
    "        print(\"[\", (delay_ms * i) / 1000, \"]: \", sep=\"\", end=\"\")\n",
    "        image = Image.fromarray(cv2.cvtColor(frame, cv2.COLOR_BGR2RGB))\n",
    "        image_input = preprocess(image).unsqueeze(0)\n",
    "        image_features = model.encode_image(image_input)\n",
    "        image_features /= image_features.norm(dim=-1, keepdim=True)\n",
    "        text = get_text_from_timestamp(timestamp=delay_ms * i / 1000)\n",
    "        text_tokens = tokenizer([text])\n",
    "        text_features = model.encode_text(text_tokens)\n",
    "        text_features /= text_features.norm(dim=-1, keepdim=True)\n",
    "        similarity = (image_features @ text_features.T).squeeze(0)\n",
    "        print(similarity, text)\n"
   ]
  },
  {
   "cell_type": "code",
   "execution_count": 10,
   "id": "5c63058a",
   "metadata": {},
   "outputs": [],
   "source": [
    "from transformers import AutoTokenizer, AutoModelForSeq2SeqLM"
   ]
  },
  {
   "cell_type": "code",
   "execution_count": 11,
   "id": "d829be94",
   "metadata": {},
   "outputs": [],
   "source": [
    "tokenizer = AutoTokenizer.from_pretrained(\"google/flan-t5-large\")\n",
    "model = AutoModelForSeq2SeqLM.from_pretrained(\"google/flan-t5-large\")"
   ]
  },
  {
   "cell_type": "code",
   "execution_count": 12,
   "id": "caf0993f",
   "metadata": {},
   "outputs": [
    {
     "name": "stderr",
     "output_type": "stream",
     "text": [
      "  0%|          | 0/28 [00:00<?, ?it/s]"
     ]
    },
    {
     "name": "stdout",
     "output_type": "stream",
     "text": [
      "Input:  Hi there, I'm going to show you one of the most popular ways to tie a tie, using the\n"
     ]
    },
    {
     "name": "stderr",
     "output_type": "stream",
     "text": [
      "  4%|▎         | 1/28 [00:08<03:37,  8.06s/it]"
     ]
    },
    {
     "name": "stdout",
     "output_type": "stream",
     "text": [
      "Output: one of the most popular ways to tie  | one of the most unpopular ways to tie\n",
      "\n",
      "Input:  Windsor knot. Also known as a double Windsor, or a full Windsor. Start with your\n"
     ]
    },
    {
     "name": "stderr",
     "output_type": "stream",
     "text": [
      "  7%|▋         | 2/28 [00:08<01:39,  3.85s/it]"
     ]
    },
    {
     "name": "stdout",
     "output_type": "stream",
     "text": [
      "Output: Windsor knot | Windsor knot\n",
      "\n",
      "Input:  collar up in the tie around your neck. If you right-hand it on the wide end in\n"
     ]
    },
    {
     "name": "stderr",
     "output_type": "stream",
     "text": [
      " 11%|█         | 3/28 [00:10<01:13,  2.94s/it]"
     ]
    },
    {
     "name": "stdout",
     "output_type": "stream",
     "text": [
      "Output: collar up in the tie around your neck | collar down in the tie around your neck\n",
      "\n",
      "Input:  your right hand and the narrow end in your left hand. Now it's important to remember\n"
     ]
    },
    {
     "name": "stderr",
     "output_type": "stream",
     "text": [
      " 14%|█▍        | 4/28 [00:12<00:58,  2.45s/it]"
     ]
    },
    {
     "name": "stdout",
     "output_type": "stream",
     "text": [
      "Output: the narrow end in your left hand. | the narrow end in your right hand.\n",
      "\n",
      "Input:  that the longer you make the wide end below the tie will hang when you finished.\n"
     ]
    },
    {
     "name": "stderr",
     "output_type": "stream",
     "text": [
      " 18%|█▊        | 5/28 [00:14<00:49,  2.14s/it]"
     ]
    },
    {
     "name": "stdout",
     "output_type": "stream",
     "text": [
      "Output: that the longer you make the wide end below | that the shorter you make the wide end above\n",
      "\n",
      "Input:  Basically you want to line up your tie like this. If you remember this you'll\n"
     ]
    },
    {
     "name": "stderr",
     "output_type": "stream",
     "text": [
      " 21%|██▏       | 6/28 [00:15<00:38,  1.77s/it]"
     ]
    },
    {
     "name": "stdout",
     "output_type": "stream",
     "text": [
      "Output: line up your tie | line up your shirt\n",
      "\n",
      "Input:  save yourself a lot of time later on.\n"
     ]
    },
    {
     "name": "stderr",
     "output_type": "stream",
     "text": [
      " 25%|██▌       | 7/28 [00:16<00:36,  1.75s/it]"
     ]
    },
    {
     "name": "stdout",
     "output_type": "stream",
     "text": [
      "Output: save yourself a lot of time later on | save yourself a lot of time later on\n",
      "\n",
      "Input:  Now cross each end over, wide end over the top, and leave about this much on the narrow end.\n"
     ]
    },
    {
     "name": "stderr",
     "output_type": "stream",
     "text": [
      " 29%|██▊       | 8/28 [00:18<00:32,  1.60s/it]"
     ]
    },
    {
     "name": "stdout",
     "output_type": "stream",
     "text": [
      "Output: cross each end over, wide end over the | wide end over the\n",
      "\n",
      "Input:  That's about four inches or ten centimeters.\n"
     ]
    },
    {
     "name": "stderr",
     "output_type": "stream",
     "text": [
      " 32%|███▏      | 9/28 [00:19<00:30,  1.58s/it]"
     ]
    },
    {
     "name": "stdout",
     "output_type": "stream",
     "text": [
      "Output: That's about four inches or ten | That's about four inches or ten\n",
      "\n",
      "Input:  With your left hand take the wide end, thread it through the back of this opening from behind.\n"
     ]
    },
    {
     "name": "stderr",
     "output_type": "stream",
     "text": [
      " 36%|███▌      | 10/28 [00:21<00:28,  1.58s/it]"
     ]
    },
    {
     "name": "stdout",
     "output_type": "stream",
     "text": [
      "Output: Thread the wide end through the back of the | Thread the narrow end through the back of the\n",
      "\n",
      "Input:  Thread it all the way through like this.\n"
     ]
    },
    {
     "name": "stderr",
     "output_type": "stream",
     "text": [
      " 39%|███▉      | 11/28 [00:22<00:25,  1.48s/it]"
     ]
    },
    {
     "name": "stdout",
     "output_type": "stream",
     "text": [
      "Output: Thread it through the hole. | Thread it through the hole.\n",
      "\n",
      "Input:  Now take the wide end and with your left hand,\n"
     ]
    },
    {
     "name": "stderr",
     "output_type": "stream",
     "text": [
      " 43%|████▎     | 12/28 [00:24<00:24,  1.51s/it]"
     ]
    },
    {
     "name": "stdout",
     "output_type": "stream",
     "text": [
      "Output: take the wide end and with your left hand | take the narrow end and with your right hand\n",
      "\n",
      "Input:  wrap it all the way around the back like this.\n"
     ]
    },
    {
     "name": "stderr",
     "output_type": "stream",
     "text": [
      " 46%|████▋     | 13/28 [00:25<00:21,  1.42s/it]"
     ]
    },
    {
     "name": "stdout",
     "output_type": "stream",
     "text": [
      "Output: wrap it around the back. | wrap it around the back.\n",
      "\n",
      "Input:  Switch hands. Notice here how the back of the tie is facing outward.\n"
     ]
    },
    {
     "name": "stderr",
     "output_type": "stream",
     "text": [
      " 50%|█████     | 14/28 [00:26<00:17,  1.27s/it]"
     ]
    },
    {
     "name": "stdout",
     "output_type": "stream",
     "text": [
      "Output: switch hands. | switch hands.\n",
      "\n",
      "Input:  Take the wide end now in your right hand, thread it through the front of this opening,\n"
     ]
    },
    {
     "name": "stderr",
     "output_type": "stream",
     "text": [
      " 54%|█████▎    | 15/28 [00:27<00:17,  1.36s/it]"
     ]
    },
    {
     "name": "stdout",
     "output_type": "stream",
     "text": [
      "Output: thread the wide end through the front of this | thread the narrow end through the front of this\n",
      "\n",
      "Input:  we're going through the front and down this time. Thread it through all the way down like this.\n"
     ]
    },
    {
     "name": "stderr",
     "output_type": "stream",
     "text": [
      " 57%|█████▋    | 16/28 [00:29<00:17,  1.43s/it]"
     ]
    },
    {
     "name": "stdout",
     "output_type": "stream",
     "text": [
      "Output: we're going through the front and down | we're going through the back and up\n",
      "\n",
      "Input:  All right, hardest parts now done. The rest is easy. What you can see here is the inside of\n"
     ]
    },
    {
     "name": "stderr",
     "output_type": "stream",
     "text": [
      " 61%|██████    | 17/28 [00:30<00:14,  1.31s/it]"
     ]
    },
    {
     "name": "stdout",
     "output_type": "stream",
     "text": [
      "Output: the rest is easy | the rest is hard\n",
      "\n",
      "Input:  your knot. Should look a bit like a triangle. Put your left index finger on the knot,\n"
     ]
    },
    {
     "name": "stderr",
     "output_type": "stream",
     "text": [
      " 64%|██████▍   | 18/28 [00:32<00:14,  1.40s/it]"
     ]
    },
    {
     "name": "stdout",
     "output_type": "stream",
     "text": [
      "Output: if you have a left hand, | if you have a right hand,\n",
      "\n",
      "Input:  like this, and keep it there. With your other hand, wrap the wide end around the knot\n"
     ]
    },
    {
     "name": "stderr",
     "output_type": "stream",
     "text": [
      " 68%|██████▊   | 19/28 [00:33<00:13,  1.46s/it]"
     ]
    },
    {
     "name": "stdout",
     "output_type": "stream",
     "text": [
      "Output: wrap the wide end around the knot | wrap the narrow end around the knot\n",
      "\n",
      "Input:  from right to left, and then grab it from behind. Keep your index finger where it is.\n"
     ]
    },
    {
     "name": "stderr",
     "output_type": "stream",
     "text": [
      " 71%|███████▏  | 20/28 [00:34<00:10,  1.33s/it]"
     ]
    },
    {
     "name": "stdout",
     "output_type": "stream",
     "text": [
      "Output: grab the ring | grab the ring\n",
      "\n",
      "Input:  With your right hand, push the wide end through this opening again from the back,\n"
     ]
    },
    {
     "name": "stderr",
     "output_type": "stream",
     "text": [
      " 75%|███████▌  | 21/28 [00:36<00:09,  1.41s/it]"
     ]
    },
    {
     "name": "stdout",
     "output_type": "stream",
     "text": [
      "Output: push the wide end through the opening again from | push the narrow end through the opening again from\n",
      "\n",
      "Input:  so we're coming up and through the back like this, threading it through the hole.\n"
     ]
    },
    {
     "name": "stderr",
     "output_type": "stream",
     "text": [
      " 79%|███████▊  | 22/28 [00:37<00:08,  1.48s/it]"
     ]
    },
    {
     "name": "stdout",
     "output_type": "stream",
     "text": [
      "Output: we're coming up and through the back | we're coming down and through the back\n",
      "\n",
      "Input:  All right, here comes the punch line. Your index finger has created a little tunnel.\n"
     ]
    },
    {
     "name": "stderr",
     "output_type": "stream",
     "text": [
      " 82%|████████▏ | 23/28 [00:38<00:06,  1.30s/it]"
     ]
    },
    {
     "name": "stdout",
     "output_type": "stream",
     "text": [
      "Output: punch line | punch line is\n",
      "\n",
      "Input:  What you need to do now is thread the tie down through the tunnel and pull it down.\n"
     ]
    },
    {
     "name": "stderr",
     "output_type": "stream",
     "text": [
      " 86%|████████▌ | 24/28 [00:40<00:05,  1.42s/it]"
     ]
    },
    {
     "name": "stdout",
     "output_type": "stream",
     "text": [
      "Output: thread the tie down through the tunnel. | thread the tie up through the tunnel.\n",
      "\n",
      "Input:  The last step now is to adjust and tighten it, alternating between the long end and the short end.\n"
     ]
    },
    {
     "name": "stderr",
     "output_type": "stream",
     "text": [
      " 89%|████████▉ | 25/28 [00:42<00:04,  1.55s/it]"
     ]
    },
    {
     "name": "stdout",
     "output_type": "stream",
     "text": [
      "Output: the last step is to adjust and tighten | the first step is to adjust and loosen\n",
      "\n",
      "Input:  Gradually pulling the knot up, shaping it as you go until it's just how you want it to be.\n"
     ]
    },
    {
     "name": "stderr",
     "output_type": "stream",
     "text": [
      " 93%|█████████▎| 26/28 [00:43<00:02,  1.40s/it]"
     ]
    },
    {
     "name": "stdout",
     "output_type": "stream",
     "text": [
      "Output: pull the knot up | pull the knot down\n",
      "\n",
      "Input:  A sharp symmetrical triangular knot. Pull your collar down and bingo, the full winds are not.\n"
     ]
    },
    {
     "name": "stderr",
     "output_type": "stream",
     "text": [
      " 96%|█████████▋| 27/28 [00:44<00:01,  1.45s/it]"
     ]
    },
    {
     "name": "stdout",
     "output_type": "stream",
     "text": [
      "Output: pull your collar down and bingo, the full | pull your collar up and bingo, the full\n",
      "\n",
      "Input:  Thank you for watching. I hope you found this helpful.\n"
     ]
    },
    {
     "name": "stderr",
     "output_type": "stream",
     "text": [
      "100%|██████████| 28/28 [00:46<00:00,  1.64s/it]"
     ]
    },
    {
     "name": "stdout",
     "output_type": "stream",
     "text": [
      "Output: thank you for watching | thank you for not watching\n",
      "\n"
     ]
    },
    {
     "name": "stderr",
     "output_type": "stream",
     "text": [
      "\n"
     ]
    }
   ],
   "source": [
    "counterfactual_list = []\n",
    "\n",
    "for x in tqdm(transcript[\"segments\"]):\n",
    "    text = x[\"text\"]\n",
    "    print(\"Input:\", text)\n",
    "    summary_instruction = f\"\"\"\n",
    "    Write a concise, natural phrase that captures the main action or event described in this text \\\n",
    "    (e.g., \"person laughs\", \"car drives away\"). \n",
    "    Avoid repetition or unnecessary words.\n",
    "    Text: {text}\n",
    "    \"\"\"\n",
    "    encoder_inputs = tokenizer(summary_instruction, return_tensors=\"pt\", max_length=512, truncation=True)\n",
    "    output = model.generate(\n",
    "        input_ids=encoder_inputs[\"input_ids\"], \n",
    "        attention_mask=encoder_inputs[\"attention_mask\"],\n",
    "        max_length=10\n",
    "    )[0]\n",
    "    output_summary_text = tokenizer.decode(output, skip_special_tokens=True)\n",
    "    negated_instructions = f\"\"\"\n",
    "    Convert the following phrase into its opposite meaning. Try change every word if possible.\n",
    "    Negate it to completely mean the opposite idea. The new negated phrase must be as different from the original text.\n",
    "    Examples: \"rises\" becomes \"lowers\", \"death\" becomes \"life\", \"end\" becomes \"start\", \\\n",
    "    \"one\" becomes \"two\", \"up \" becomes \"down\".\n",
    "    Phrase: {output_summary_text}\n",
    "    \"\"\"\n",
    "    encoder_inputs = tokenizer(negated_instructions, return_tensors=\"pt\", max_length=512, truncation=True)\n",
    "    output = model.generate(\n",
    "        input_ids=encoder_inputs[\"input_ids\"], \n",
    "        attention_mask=encoder_inputs[\"attention_mask\"],\n",
    "        max_length=10\n",
    "    )[0]\n",
    "    output_negated_text = tokenizer.decode(output, skip_special_tokens=True)\n",
    "    print(f\"Output: {output_summary_text} | {output_negated_text}\\n\")\n",
    "    counterfactual_list.append([output_summary_text, output_negated_text])"
   ]
  },
  {
   "cell_type": "code",
   "execution_count": 13,
   "id": "5617fae7",
   "metadata": {},
   "outputs": [
    {
     "data": {
      "text/plain": [
       "[['one of the most popular ways to tie ',\n",
       "  'one of the most unpopular ways to tie'],\n",
       " ['Windsor knot', 'not Windsor knot'],\n",
       " ['collar up in the tie around your neck',\n",
       "  'collar down in the tie around your neck'],\n",
       " ['the narrow end in your left hand.', 'the narrow end in your right hand.'],\n",
       " ['that the longer you make the wide end below',\n",
       "  'that the shorter you make the wide end above'],\n",
       " ['line up your tie', 'line up your shirt'],\n",
       " ['save yourself a lot of time later on',\n",
       "  'not save yourself a lot of time later on'],\n",
       " ['cross each end over, wide end over the', 'wide end over the'],\n",
       " [\"That's about four inches or ten\", \"not That's about four inches or ten\"],\n",
       " ['Thread the wide end through the back of the',\n",
       "  'Thread the narrow end through the back of the'],\n",
       " ['Thread it through the hole.', 'not Thread it through the hole.'],\n",
       " ['take the wide end and with your left hand',\n",
       "  'take the narrow end and with your right hand'],\n",
       " ['wrap it around the back.', 'not wrap it around the back.'],\n",
       " ['switch hands.', 'not switch hands.'],\n",
       " ['thread the wide end through the front of this',\n",
       "  'thread the narrow end through the front of this'],\n",
       " [\"we're going through the front and down\",\n",
       "  \"we're going through the back and up\"],\n",
       " ['the rest is easy', 'the rest is hard'],\n",
       " ['if you have a left hand,', 'if you have a right hand,'],\n",
       " ['wrap the wide end around the knot', 'wrap the narrow end around the knot'],\n",
       " ['grab the ring', 'not grab the ring'],\n",
       " ['push the wide end through the opening again from',\n",
       "  'push the narrow end through the opening again from'],\n",
       " [\"we're coming up and through the back\",\n",
       "  \"we're coming down and through the back\"],\n",
       " ['punch line', 'punch line is'],\n",
       " ['thread the tie down through the tunnel.',\n",
       "  'thread the tie up through the tunnel.'],\n",
       " ['the last step is to adjust and tighten',\n",
       "  'the first step is to adjust and loosen'],\n",
       " ['pull the knot up', 'pull the knot down'],\n",
       " ['pull your collar down and bingo, the full',\n",
       "  'pull your collar up and bingo, the full'],\n",
       " ['thank you for watching', 'thank you for not watching']]"
      ]
     },
     "execution_count": 13,
     "metadata": {},
     "output_type": "execute_result"
    }
   ],
   "source": [
    "counterfactual_list_adjusted = [[x, y] if x != y else [x, \"not \" + x] for x, y in counterfactual_list]\n",
    "counterfactual_list_adjusted"
   ]
  },
  {
   "cell_type": "code",
   "execution_count": 14,
   "id": "fafb5513",
   "metadata": {},
   "outputs": [],
   "source": [
    "def get_counterfactual_text_from_timestamp(timestamp):\n",
    "    idx = min(bisect_left(timestamp_list, timestamp), len(timestamp_list) - 1)\n",
    "    return counterfactual_list_adjusted[idx]"
   ]
  },
  {
   "cell_type": "code",
   "execution_count": 15,
   "id": "6e15222d",
   "metadata": {},
   "outputs": [
    {
     "name": "stdout",
     "output_type": "stream",
     "text": [
      "[0.0]: tensor([0.2134, 0.2218]) ['one of the most popular ways to tie ', 'one of the most unpopular ways to tie']\n",
      "[4.0]: tensor([0.3184, 0.3028]) ['one of the most popular ways to tie ', 'one of the most unpopular ways to tie']\n",
      "[8.0]: tensor([0.3165, 0.3038]) ['Windsor knot', 'not Windsor knot']\n",
      "[12.0]: tensor([0.2919, 0.2986]) ['collar up in the tie around your neck', 'collar down in the tie around your neck']\n",
      "[16.0]: tensor([0.2815, 0.2888]) ['collar up in the tie around your neck', 'collar down in the tie around your neck']\n",
      "[20.0]: tensor([0.2315, 0.2333]) ['the narrow end in your left hand.', 'the narrow end in your right hand.']\n",
      "[24.0]: tensor([0.2478, 0.2494]) ['that the longer you make the wide end below', 'that the shorter you make the wide end above']\n",
      "[28.0]: tensor([0.2745, 0.2696]) ['line up your tie', 'line up your shirt']\n",
      "[32.0]: tensor([0.2423, 0.2392]) ['save yourself a lot of time later on', 'not save yourself a lot of time later on']\n",
      "[36.0]: tensor([0.2384, 0.2249]) ['cross each end over, wide end over the', 'wide end over the']\n",
      "[40.0]: tensor([0.2419, 0.2259]) ['cross each end over, wide end over the', 'wide end over the']\n",
      "[44.0]: tensor([0.2326, 0.2216]) [\"That's about four inches or ten\", \"not That's about four inches or ten\"]\n",
      "[48.0]: tensor([0.2401, 0.2436]) ['Thread the wide end through the back of the', 'Thread the narrow end through the back of the']\n",
      "[52.0]: tensor([0.2286, 0.2337]) ['Thread the wide end through the back of the', 'Thread the narrow end through the back of the']\n",
      "[56.0]: tensor([0.2464, 0.2395]) ['Thread it through the hole.', 'not Thread it through the hole.']\n",
      "[60.0]: tensor([0.2436, 0.2462]) ['take the wide end and with your left hand', 'take the narrow end and with your right hand']\n",
      "[64.0]: tensor([0.2460, 0.2478]) ['take the wide end and with your left hand', 'take the narrow end and with your right hand']\n",
      "[68.0]: tensor([0.2539, 0.2543]) ['take the wide end and with your left hand', 'take the narrow end and with your right hand']\n",
      "[72.0]: tensor([0.2281, 0.2297]) ['wrap it around the back.', 'not wrap it around the back.']\n",
      "[76.0]: tensor([0.2554, 0.2455]) ['switch hands.', 'not switch hands.']\n",
      "[80.0]: tensor([0.2433, 0.2418]) ['thread the wide end through the front of this', 'thread the narrow end through the front of this']\n",
      "[84.0]: tensor([0.2542, 0.2526]) ['thread the wide end through the front of this', 'thread the narrow end through the front of this']\n",
      "[88.0]: tensor([0.2329, 0.2190]) [\"we're going through the front and down\", \"we're going through the back and up\"]\n",
      "[92.0]: tensor([0.2254, 0.2290]) ['the rest is easy', 'the rest is hard']\n",
      "[96.0]: tensor([0.2237, 0.2267]) ['the rest is easy', 'the rest is hard']\n",
      "[100.0]: tensor([0.2349, 0.2398]) ['if you have a left hand,', 'if you have a right hand,']\n",
      "[104.0]: tensor([0.2480, 0.2506]) ['if you have a left hand,', 'if you have a right hand,']\n",
      "[108.0]: tensor([0.2685, 0.2704]) ['wrap the wide end around the knot', 'wrap the narrow end around the knot']\n",
      "[112.0]: tensor([0.2739, 0.2599]) ['grab the ring', 'not grab the ring']\n",
      "[116.0]: tensor([0.2659, 0.2566]) ['grab the ring', 'not grab the ring']\n",
      "[120.0]: tensor([0.2417, 0.2355]) ['push the wide end through the opening again from', 'push the narrow end through the opening again from']\n",
      "[124.0]: tensor([0.2482, 0.2380]) ['push the wide end through the opening again from', 'push the narrow end through the opening again from']\n",
      "[128.0]: tensor([0.2089, 0.2032]) [\"we're coming up and through the back\", \"we're coming down and through the back\"]\n",
      "[132.0]: tensor([0.2318, 0.2236]) ['punch line', 'punch line is']\n",
      "[136.0]: tensor([0.2318, 0.2242]) ['punch line', 'punch line is']\n",
      "[140.0]: tensor([0.2416, 0.2538]) ['thread the tie down through the tunnel.', 'thread the tie up through the tunnel.']\n",
      "[144.0]: tensor([0.2486, 0.2264]) ['the last step is to adjust and tighten', 'the first step is to adjust and loosen']\n",
      "[148.0]: tensor([0.2588, 0.2349]) ['the last step is to adjust and tighten', 'the first step is to adjust and loosen']\n",
      "[152.0]: tensor([0.2586, 0.2638]) ['pull the knot up', 'pull the knot down']\n",
      "[156.0]: tensor([0.2538, 0.2573]) ['pull the knot up', 'pull the knot down']\n",
      "[160.0]: tensor([0.2369, 0.2418]) ['pull your collar down and bingo, the full', 'pull your collar up and bingo, the full']\n",
      "[164.0]: tensor([0.2390, 0.2425]) ['pull your collar down and bingo, the full', 'pull your collar up and bingo, the full']\n",
      "[168.0]: tensor([0.2294, 0.2301]) ['thank you for watching', 'thank you for not watching']\n",
      "[172.0]: tensor([0.2354, 0.2375]) ['thank you for watching', 'thank you for not watching']\n",
      "[176.0]: tensor([0.2381, 0.2399]) ['thank you for watching', 'thank you for not watching']\n",
      "[180.0]: tensor([0.2498, 0.2498]) ['thank you for watching', 'thank you for not watching']\n"
     ]
    }
   ],
   "source": [
    "model, _, preprocess = open_clip.create_model_and_transforms('ViT-B-32', pretrained='openai')\n",
    "tokenizer = open_clip.get_tokenizer('ViT-B-32')\n",
    "\n",
    "similarities = []\n",
    "\n",
    "with torch.no_grad():\n",
    "    for i, frame in enumerate(runVideo(wait=False)):\n",
    "        if i % 100 != 0:\n",
    "            continue\n",
    "        print(\"[\", (delay_ms * i) / 1000, \"]: \", sep=\"\", end=\"\")\n",
    "        image = Image.fromarray(cv2.cvtColor(frame, cv2.COLOR_BGR2RGB))\n",
    "        image_input = preprocess(image).unsqueeze(0)\n",
    "        image_features = model.encode_image(image_input)\n",
    "        image_features /= image_features.norm(dim=-1, keepdim=True)\n",
    "        texts = get_counterfactual_text_from_timestamp(timestamp=delay_ms * i / 1000)\n",
    "        text_tokens = tokenizer(texts)\n",
    "        text_features = model.encode_text(text_tokens)\n",
    "        text_features /= text_features.norm(dim=-1, keepdim=True)\n",
    "        similarity = (image_features @ text_features.T).squeeze(0)\n",
    "        print(similarity, texts)\n",
    "        similarities.append(similarity)"
   ]
  },
  {
   "cell_type": "code",
   "execution_count": 16,
   "id": "9092a793",
   "metadata": {},
   "outputs": [],
   "source": [
    "import numpy as np\n",
    "import matplotlib.pyplot as plt"
   ]
  },
  {
   "cell_type": "code",
   "execution_count": 35,
   "id": "ae28155e",
   "metadata": {},
   "outputs": [
    {
     "data": {
      "image/png": "[encoded data removed]",
      "text/plain": [
       "<Figure size 640x480 with 1 Axes>"
      ]
     },
     "metadata": {},
     "output_type": "display_data"
    }
   ],
   "source": [
    "x_values = np.arange(len(similarities)) * delay_ms / 1000 * 100\n",
    "y_values = np.array(similarities)\n",
    "\n",
    "#print(y_values[:, 0] / y_values[:, 1])\n",
    "\n",
    "y_values = np.column_stack([y_values, y_values[:, 0] / y_values[:, 1]])\n",
    "\n",
    "plt.plot(x_values, y_values[:, 0], linestyle=\"-\", label=\"Factual\")\n",
    "plt.plot(x_values, y_values[:, 1], linestyle=\"-\", label=\"Counterfactual\")\n",
    "plt.xlabel(\"Time (s)\")\n",
    "plt.ylabel(\"Similarity Scores\")\n",
    "plt.title(\"Text Prompt and Frame Embeddings Similarity Score\")\n",
    "\n",
    "plt.legend()\n",
    "\n",
    "plt.show()"
   ]
  },
  {
   "cell_type": "code",
   "execution_count": 33,
   "id": "53e432b4",
   "metadata": {},
   "outputs": [
    {
     "data": {
      "image/png": "[encoded data removed]",
      "text/plain": [
       "<Figure size 640x480 with 1 Axes>"
      ]
     },
     "metadata": {},
     "output_type": "display_data"
    }
   ],
   "source": [
    "plt.plot(x_values, y_values[:, 2], linestyle=\"-\", label=\"Factual / Counterfactual\", color=\"g\")\n",
    "\n",
    "plt.xlabel(\"Time (s)\")\n",
    "plt.ylabel(\"Factual / Counterfactual\")\n",
    "plt.title(\"Ratio of Factual to Counterfactual Similarities\")\n",
    "\n",
    "plt.show()"
   ]
  },
  {
   "cell_type": "code",
   "execution_count": null,
   "id": "345c86d2",
   "metadata": {},
   "outputs": [],
   "source": []
  }
 ],
 "metadata": {
  "kernelspec": {
   "display_name": "ursa25",
   "language": "python",
   "name": "python3"
  },
  "language_info": {
   "codemirror_mode": {
    "name": "ipython",
    "version": 3
   },
   "file_extension": ".py",
   "mimetype": "text/x-python",
   "name": "python",
   "nbconvert_exporter": "python",
   "pygments_lexer": "ipython3",
   "version": "3.13.7"
  }
 },
 "nbformat": 4,
 "nbformat_minor": 5
}
