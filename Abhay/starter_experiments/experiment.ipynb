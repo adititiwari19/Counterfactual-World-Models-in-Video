{
 "cells": [
  {
   "cell_type": "code",
   "execution_count": 5,
   "id": "ac6bcb21",
   "metadata": {},
   "outputs": [],
   "source": [
    "import torch\n",
    "import open_clip\n",
    "import whisper\n",
    "from pathlib import Path\n",
    "import cv2\n",
    "from PIL import Image\n",
    "from video import cap, delay_ms, video_path, runVideo"
   ]
  },
  {
   "cell_type": "code",
   "execution_count": 2,
   "id": "313ed74b",
   "metadata": {},
   "outputs": [
    {
     "name": "stderr",
     "output_type": "stream",
     "text": [
      "c:\\Users\\abhay\\anaconda3\\envs\\ursa25\\Lib\\site-packages\\whisper\\timing.py:42: UserWarning: Failed to launch Triton kernels, likely due to missing CUDA toolkit; falling back to a slower median kernel implementation...\n",
      "  warnings.warn(\n",
      "c:\\Users\\abhay\\anaconda3\\envs\\ursa25\\Lib\\site-packages\\whisper\\timing.py:146: UserWarning: Failed to launch Triton kernels, likely due to missing CUDA toolkit; falling back to a slower DTW implementation...\n",
      "  warnings.warn(\n",
      "c:\\Users\\abhay\\anaconda3\\envs\\ursa25\\Lib\\site-packages\\whisper\\timing.py:42: UserWarning: Failed to launch Triton kernels, likely due to missing CUDA toolkit; falling back to a slower median kernel implementation...\n",
      "  warnings.warn(\n",
      "c:\\Users\\abhay\\anaconda3\\envs\\ursa25\\Lib\\site-packages\\whisper\\timing.py:146: UserWarning: Failed to launch Triton kernels, likely due to missing CUDA toolkit; falling back to a slower DTW implementation...\n",
      "  warnings.warn(\n"
     ]
    },
    {
     "name": "stdout",
     "output_type": "stream",
     "text": [
      "1.4400000000000015 6.58  Hi there, I'm going to show you one of the most popular ways to tie a tie, using the\n",
      "6.58 14.7  Windsor knot. Also known as a double Windsor, or a full Windsor. Start with your\n",
      "14.7 18.68  collar up in the tie around your neck. If you right-hand it on the wide end in\n",
      "18.68 24.92  your right hand and the narrow end in your left hand. Now it's important to remember\n",
      "25.34 28.88  that the longer you make the wide end below the tie will hang when you finished.\n",
      "29.68 33.82  Basically you want to line up your tie like this. If you remember this you'll\n",
      "33.82 35.38  save yourself a lot of time later on.\n",
      "38.36 43.9  Now cross each end over, wide end over the top, and leave about this much on the narrow end.\n",
      "44.64 46.98  That's about four inches or ten centimeters.\n",
      "50.8 56.04  With your left hand take the wide end, thread it through the back of this opening from behind.\n",
      "56.839999999999996 59.08  Thread it all the way through like this.\n",
      "66.80000000000001 69.62  Now take the wide end and with your left hand,\n",
      "71.56 73.66  wrap it all the way around the back like this.\n",
      "75.48 79.72  Switch hands. Notice here how the back of the tie is facing outward.\n",
      "84.02 88.46  Take the wide end now in your right hand, thread it through the front of this opening,\n",
      "89.04 94.18  we're going through the front and down this time. Thread it through all the way down like this.\n",
      "95.24 100.9  All right, hardest parts now done. The rest is easy. What you can see here is the inside of\n",
      "100.9 107.18  your knot. Should look a bit like a triangle. Put your left index finger on the knot,\n",
      "107.18 113.14  like this, and keep it there. With your other hand, wrap the wide end around the knot\n",
      "113.14 119.24  from right to left, and then grab it from behind. Keep your index finger where it is.\n",
      "123.14 127.34  With your right hand, push the wide end through this opening again from the back,\n",
      "127.8 131.84  so we're coming up and through the back like this, threading it through the hole.\n",
      "131.84 140.46  All right, here comes the punch line. Your index finger has created a little tunnel.\n",
      "141.64 146.12  What you need to do now is thread the tie down through the tunnel and pull it down.\n",
      "149.02 154.72  The last step now is to adjust and tighten it, alternating between the long end and the short end.\n",
      "155.38 160.24  Gradually pulling the knot up, shaping it as you go until it's just how you want it to be.\n",
      "161.04000000000002 168.96  A sharp symmetrical triangular knot. Pull your collar down and bingo, the full winds are not.\n",
      "170.36 172.76  Thank you for watching. I hope you found this helpful.\n"
     ]
    }
   ],
   "source": [
    "model = whisper.load_model(\"base\")\n",
    "result = model.transcribe(str(video_path), word_timestamps=True)\n",
    "for segment in result[\"segments\"]:\n",
    "    print(segment[\"start\"], segment[\"end\"], segment[\"text\"])"
   ]
  },
  {
   "cell_type": "code",
   "execution_count": 2,
   "id": "538bcc56",
   "metadata": {},
   "outputs": [],
   "source": [
    "def ms_to_timestamp(ms):\n",
    "    total_seconds = int(ms // 1000)\n",
    "    minutes = total_seconds // 60\n",
    "    seconds = total_seconds % 60\n",
    "    return f\"{minutes:02d}:{seconds:02d}\""
   ]
  },
  {
   "cell_type": "code",
   "execution_count": 3,
   "id": "edb883d0",
   "metadata": {},
   "outputs": [
    {
     "ename": "NameError",
     "evalue": "name 'open_clip' is not defined",
     "output_type": "error",
     "traceback": [
      "\u001b[31m---------------------------------------------------------------------------\u001b[39m",
      "\u001b[31mNameError\u001b[39m                                 Traceback (most recent call last)",
      "\u001b[36mCell\u001b[39m\u001b[36m \u001b[39m\u001b[32mIn[3]\u001b[39m\u001b[32m, line 1\u001b[39m\n\u001b[32m----> \u001b[39m\u001b[32m1\u001b[39m model, _, preprocess = \u001b[43mopen_clip\u001b[49m.create_model_and_transforms(\u001b[33m'\u001b[39m\u001b[33mViT-B-32\u001b[39m\u001b[33m'\u001b[39m, pretrained=\u001b[33m'\u001b[39m\u001b[33mopenai\u001b[39m\u001b[33m'\u001b[39m)\n\u001b[32m      2\u001b[39m tokenizer = open_clip.get_tokenizer(\u001b[33m'\u001b[39m\u001b[33mViT-B-32\u001b[39m\u001b[33m'\u001b[39m)\n\u001b[32m      4\u001b[39m text = [\u001b[33m\"\u001b[39m\u001b[33mthe person is tying his tie\u001b[39m\u001b[33m\"\u001b[39m, \u001b[33m\"\u001b[39m\u001b[33mwater is blue\u001b[39m\u001b[33m\"\u001b[39m, \u001b[33m\"\u001b[39m\u001b[33mfire earth mars\u001b[39m\u001b[33m\"\u001b[39m, \u001b[33m\"\u001b[39m\u001b[33mhis shirt is white\u001b[39m\u001b[33m\"\u001b[39m]\n",
      "\u001b[31mNameError\u001b[39m: name 'open_clip' is not defined"
     ]
    }
   ],
   "source": [
    "model, _, preprocess = open_clip.create_model_and_transforms('ViT-B-32', pretrained='openai')\n",
    "tokenizer = open_clip.get_tokenizer('ViT-B-32')\n",
    "\n",
    "text = [\"the person is tying his tie\", \"water is blue\", \"fire earth mars\", \"his shirt is white\"]\n",
    "text_tokens = tokenizer(text)\n",
    "\n",
    "with torch.no_grad():\n",
    "    text_features = model.encode_text(text_tokens)\n",
    "    text_features /= text_features.norm(dim=-1, keepdim=True)\n",
    "\n",
    "    for i, frame in enumerate(runVideo(wait=False)):\n",
    "        if i % 10 != 0:\n",
    "            continue\n",
    "        print(\"[\", ms_to_timestamp(delay_ms * i), \"]: \", sep=\"\", end=\"\")\n",
    "        image = Image.fromarray(cv2.cvtColor(frame, cv2.COLOR_BGR2RGB))\n",
    "        image_input = preprocess(image).unsqueeze(0)\n",
    "        image_features = model.encode_image(image_input)\n",
    "        image_features /= image_features.norm(dim=-1, keepdim=True)\n",
    "        similarity = (image_features @ text_features.T).squeeze(0)\n",
    "        print(similarity)"
   ]
  },
  {
   "cell_type": "code",
   "execution_count": null,
   "id": "e4f9461b",
   "metadata": {},
   "outputs": [],
   "source": []
  },
  {
   "cell_type": "code",
   "execution_count": null,
   "id": "848f6bc5",
   "metadata": {},
   "outputs": [],
   "source": []
  }
 ],
 "metadata": {
  "kernelspec": {
   "display_name": "ursa25",
   "language": "python",
   "name": "python3"
  },
  "language_info": {
   "codemirror_mode": {
    "name": "ipython",
    "version": 3
   },
   "file_extension": ".py",
   "mimetype": "text/x-python",
   "name": "python",
   "nbconvert_exporter": "python",
   "pygments_lexer": "ipython3",
   "version": "3.13.7"
  }
 },
 "nbformat": 4,
 "nbformat_minor": 5
}
